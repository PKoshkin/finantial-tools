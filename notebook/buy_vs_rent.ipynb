{
 "cells": [
  {
   "cell_type": "code",
   "execution_count": null,
   "id": "2f653626",
   "metadata": {},
   "outputs": [],
   "source": [
    "from pathlib import Path\n",
    "import numpy as np\n",
    "from matplotlib import pyplot as plt\n",
    "ROOT_DIR = Path(\"/home/pkoshkin/repo/finantial-tools\")\n",
    "import sys\n",
    "sys.path.append(str(ROOT_DIR))\n",
    "from src.buy_vs_rent import compute_finantial_model"
   ]
  },
  {
   "cell_type": "code",
   "execution_count": null,
   "id": "38ed9280",
   "metadata": {},
   "outputs": [],
   "source": [
    "CAPITAL = 100_000\n",
    "MONTHLY_INCOME = 10_000\n",
    "MONTHLY_RENT = 1_490\n",
    "MONTHLY_SPENDING = 5_000\n",
    "YEARLY_INCOME_INCREASE_RATE = 2 / 100\n",
    "YEARLY_APARTMENT_RAISE_RATE = 3 / 100\n",
    "YEARLY_RENT_INCREASE_RATE = 2 / 100\n",
    "YEARLY_INFLATION_RATE = 2 / 100\n",
    "YEARLY_ETF_RETURN_RATE = 7 / 100\n",
    "MORTGAGE_APARTMENT_PRICE = 450_000\n",
    "MORTGAGE_INTEREST_RATE = 3.8 / 100\n",
    "MORTGAGE_DOWN_PAYMENT_RATE = 10 / 100\n",
    "MORTGAGE_TOTAL_FEES_RATE = 10 / 100\n",
    "MORTGAGE_YEARLY_REPAYMENT_RATE = 1.5 / 100\n",
    "MORTGAGE_REFINANCING_YEARS = 10\n",
    "YEARS = 30\n",
    "\n",
    "buy_model = compute_finantial_model(\n",
    "    yearly_inflation_rate=YEARLY_INFLATION_RATE,\n",
    "    yearly_apartment_raise_rate=YEARLY_APARTMENT_RAISE_RATE,\n",
    "    mortgage_apartment_price=MORTGAGE_APARTMENT_PRICE,\n",
    "    mortgage_interest_rate=MORTGAGE_INTEREST_RATE,\n",
    "    mortgage_down_payment_rate=MORTGAGE_DOWN_PAYMENT_RATE,\n",
    "    mortgage_total_fees_rate=MORTGAGE_TOTAL_FEES_RATE,\n",
    "    mortgage_yearly_repayment_rate=MORTGAGE_YEARLY_REPAYMENT_RATE,\n",
    "    mortgate_refinancing_years=MORTGAGE_REFINANCING_YEARS,\n",
    "    etf_yearly_return_rate=YEARLY_ETF_RETURN_RATE,\n",
    "    cold_rent_monthly_cost=0,\n",
    "    cold_rent_yearly_increase_rate=YEARLY_RENT_INCREASE_RATE,\n",
    "    initial_capital=CAPITAL,\n",
    "    monthly_net_income=MONTHLY_INCOME,\n",
    "    monthly_spending=MONTHLY_SPENDING,\n",
    "    yearly_income_increase_rate=YEARLY_INCOME_INCREASE_RATE,\n",
    "    years=YEARS,\n",
    ")\n",
    "\n",
    "rent_model = compute_finantial_model(\n",
    "    yearly_inflation_rate=YEARLY_INFLATION_RATE,\n",
    "    yearly_apartment_raise_rate=YEARLY_APARTMENT_RAISE_RATE,\n",
    "    mortgage_apartment_price=0,\n",
    "    mortgage_interest_rate=MORTGAGE_INTEREST_RATE,\n",
    "    mortgage_down_payment_rate=MORTGAGE_DOWN_PAYMENT_RATE,\n",
    "    mortgage_total_fees_rate=MORTGAGE_TOTAL_FEES_RATE,\n",
    "    mortgage_yearly_repayment_rate=MORTGAGE_YEARLY_REPAYMENT_RATE,\n",
    "    mortgate_refinancing_years=MORTGAGE_REFINANCING_YEARS,\n",
    "    etf_yearly_return_rate=YEARLY_ETF_RETURN_RATE,\n",
    "    cold_rent_monthly_cost=MONTHLY_RENT,\n",
    "    cold_rent_yearly_increase_rate=YEARLY_RENT_INCREASE_RATE,\n",
    "    initial_capital=CAPITAL,\n",
    "    monthly_net_income=MONTHLY_INCOME,\n",
    "    monthly_spending=MONTHLY_SPENDING,\n",
    "    yearly_income_increase_rate=YEARLY_INCOME_INCREASE_RATE,\n",
    "    years=YEARS,\n",
    ")"
   ]
  },
  {
   "cell_type": "code",
   "execution_count": null,
   "id": "762fcfb1",
   "metadata": {},
   "outputs": [],
   "source": [
    "rent_model.head()"
   ]
  },
  {
   "cell_type": "code",
   "execution_count": null,
   "id": "a6062605",
   "metadata": {},
   "outputs": [],
   "source": [
    "buy_model.head()"
   ]
  },
  {
   "cell_type": "code",
   "execution_count": null,
   "id": "1a064457",
   "metadata": {},
   "outputs": [],
   "source": [
    "rent_model.tail()"
   ]
  },
  {
   "cell_type": "code",
   "execution_count": null,
   "id": "13a8dfeb",
   "metadata": {},
   "outputs": [],
   "source": [
    "buy_model.tail()"
   ]
  },
  {
   "cell_type": "code",
   "execution_count": null,
   "id": "3930a254",
   "metadata": {},
   "outputs": [],
   "source": [
    "def plot_buy_vs_rent(field: str):\n",
    "    deltas = buy_model[field] - rent_model[field]\n",
    "    deltas[0] = 0\n",
    "    years = list(range(0, YEARS + 1))\n",
    "    plt.figure(figsize=(15, 5))\n",
    "    plt.plot(years, deltas, label=\"Buy over rent\", color=\"Green\", marker='o')\n",
    "    plt.xlabel(\"Year\")\n",
    "    plt.ylabel(\"Buying over renting\")\n",
    "    plt.xticks(years)\n",
    "    plt.axhline(0, label=\"Zero\")\n",
    "    plt.legend()\n",
    "    plt.show()\n",
    "\n",
    "\n",
    "def plot_field(model, field: str):\n",
    "    values = model[field]\n",
    "    years = list(range(0, YEARS + 1))\n",
    "    plt.figure(figsize=(15, 5))\n",
    "    plt.plot(years, values, label=\"Buy over rent\", color=\"Green\", marker='o')\n",
    "    plt.xlabel(\"Year\")\n",
    "    plt.ylabel(\"Profit from buying\")\n",
    "    plt.xticks(years)\n",
    "    plt.axhline(0, label=\"Zero\")\n",
    "    plt.legend()\n",
    "    plt.show()\n"
   ]
  },
  {
   "cell_type": "code",
   "execution_count": null,
   "id": "aec55c55",
   "metadata": {},
   "outputs": [],
   "source": [
    "plot_buy_vs_rent(field=\"estimated_total_capital\")"
   ]
  },
  {
   "cell_type": "code",
   "execution_count": null,
   "id": "325c45f2",
   "metadata": {},
   "outputs": [],
   "source": [
    "plot_buy_vs_rent(field=\"monthly_leftover\")"
   ]
  },
  {
   "cell_type": "code",
   "execution_count": null,
   "id": "716d61f4",
   "metadata": {},
   "outputs": [],
   "source": [
    "plot_buy_vs_rent(field=\"spending_not_covered_by_3_percent_etf\")"
   ]
  },
  {
   "cell_type": "code",
   "execution_count": null,
   "id": "f535605d",
   "metadata": {},
   "outputs": [],
   "source": [
    "plot_field(model=buy_model, field=\"spending_not_covered_by_3_percent_etf\")"
   ]
  },
  {
   "cell_type": "code",
   "execution_count": null,
   "id": "51c66b05",
   "metadata": {},
   "outputs": [],
   "source": [
    "plot_field(model=rent_model, field=\"spending_not_covered_by_3_percent_etf\")"
   ]
  },
  {
   "cell_type": "code",
   "execution_count": null,
   "id": "592712fd",
   "metadata": {},
   "outputs": [],
   "source": [
    "plot_buy_vs_rent(field=\"invested_capital\")"
   ]
  },
  {
   "cell_type": "code",
   "execution_count": null,
   "id": "d60fe953",
   "metadata": {},
   "outputs": [],
   "source": [
    "plot_buy_vs_rent(field=\"etf_capital\")"
   ]
  },
  {
   "cell_type": "code",
   "execution_count": null,
   "id": "7218ff5a",
   "metadata": {},
   "outputs": [],
   "source": [
    "def capital_and_income(init_capital, interest):\n",
    "    capitals = [init_capital]\n",
    "    for y in range(60):\n",
    "        capitals.append(capitals[-1] * (1 + interest))\n",
    "    return np.array(capitals)\n",
    "\n",
    "plt.figure(figsize=(15, 5))   \n",
    "plt.plot(capital_and_income(init_capital=450_000, interest=3/100), label=\"real estate\")\n",
    "plt.plot(capital_and_income(init_capital=450_000 * 0.2, interest=7/100), label=\"etf\")\n",
    "plt.legend()"
   ]
  },
  {
   "cell_type": "code",
   "execution_count": null,
   "id": "479bcb88",
   "metadata": {},
   "outputs": [],
   "source": [
    "450_000*0.2*7/100/12"
   ]
  },
  {
   "cell_type": "code",
   "execution_count": null,
   "id": "6b0d06ef",
   "metadata": {},
   "outputs": [],
   "source": [
    "450_000*0.8*(3.8+1.5)/100/12"
   ]
  },
  {
   "cell_type": "code",
   "execution_count": null,
   "id": "0ae3e2a9",
   "metadata": {},
   "outputs": [],
   "source": [
    "450_000*3/100/12"
   ]
  },
  {
   "cell_type": "code",
   "execution_count": null,
   "id": "4001f02e",
   "metadata": {},
   "outputs": [],
   "source": []
  }
 ],
 "metadata": {
  "kernelspec": {
   "display_name": ".venv",
   "language": "python",
   "name": "python3"
  },
  "language_info": {
   "codemirror_mode": {
    "name": "ipython",
    "version": 3
   },
   "file_extension": ".py",
   "mimetype": "text/x-python",
   "name": "python",
   "nbconvert_exporter": "python",
   "pygments_lexer": "ipython3",
   "version": "3.12.3"
  }
 },
 "nbformat": 4,
 "nbformat_minor": 5
}
